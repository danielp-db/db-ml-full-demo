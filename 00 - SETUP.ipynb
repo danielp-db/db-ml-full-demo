{
 "cells": [
  {
   "cell_type": "markdown",
   "metadata": {
    "application/vnd.databricks.v1+cell": {
     "cellMetadata": {
      "byteLimit": 2048000,
      "rowLimit": 10000
     },
     "inputWidgets": {},
     "nuid": "0b3a4be6-be33-4e47-a687-19266436061d",
     "showTitle": false,
     "tableResultSettingsMap": {},
     "title": ""
    }
   },
   "source": [
    "# Description"
   ]
  },
  {
   "cell_type": "markdown",
   "metadata": {
    "application/vnd.databricks.v1+cell": {
     "cellMetadata": {
      "byteLimit": 2048000,
      "rowLimit": 10000
     },
     "inputWidgets": {},
     "nuid": "129614ab-9196-40a4-bb00-190592ae1ed1",
     "showTitle": false,
     "tableResultSettingsMap": {},
     "title": ""
    }
   },
   "source": [
    "This notebook will create the assets needed to run the rest of this demo."
   ]
  },
  {
   "cell_type": "markdown",
   "metadata": {
    "application/vnd.databricks.v1+cell": {
     "cellMetadata": {
      "byteLimit": 2048000,
      "rowLimit": 10000
     },
     "inputWidgets": {},
     "nuid": "39dec120-ebbe-415d-bd06-9c62591130f5",
     "showTitle": false,
     "tableResultSettingsMap": {},
     "title": ""
    }
   },
   "source": [
    "# Boilerplate"
   ]
  },
  {
   "cell_type": "markdown",
   "metadata": {
    "application/vnd.databricks.v1+cell": {
     "cellMetadata": {
      "byteLimit": 2048000,
      "rowLimit": 10000
     },
     "inputWidgets": {},
     "nuid": "a0ffa0a0-5945-4b26-b3c7-a58db543b977",
     "showTitle": false,
     "tableResultSettingsMap": {},
     "title": ""
    }
   },
   "source": [
    "## Dependencies"
   ]
  },
  {
   "cell_type": "code",
   "execution_count": 0,
   "metadata": {
    "application/vnd.databricks.v1+cell": {
     "cellMetadata": {
      "byteLimit": 2048000,
      "rowLimit": 10000
     },
     "inputWidgets": {},
     "nuid": "4c577b29-b7e4-449e-ae14-41ced1e9d415",
     "showTitle": false,
     "tableResultSettingsMap": {},
     "title": ""
    }
   },
   "outputs": [],
   "source": [
    "%pip install dbldatagen\n",
    "%restart_python"
   ]
  },
  {
   "cell_type": "markdown",
   "metadata": {
    "application/vnd.databricks.v1+cell": {
     "cellMetadata": {
      "byteLimit": 2048000,
      "rowLimit": 10000
     },
     "inputWidgets": {},
     "nuid": "a40bcc86-f4bc-40e6-ab13-2d19144acb83",
     "showTitle": false,
     "tableResultSettingsMap": {},
     "title": ""
    }
   },
   "source": [
    "## Parameters"
   ]
  },
  {
   "cell_type": "code",
   "execution_count": 0,
   "metadata": {
    "application/vnd.databricks.v1+cell": {
     "cellMetadata": {
      "byteLimit": 2048000,
      "rowLimit": 10000
     },
     "inputWidgets": {},
     "nuid": "95e573f2-784d-48a8-a660-2ecc5815cd38",
     "showTitle": false,
     "tableResultSettingsMap": {},
     "title": ""
    }
   },
   "outputs": [],
   "source": [
    "dbutils.widgets.text(\"catalog_name\", \"\", \"00 - Catalog Name\")\n",
    "dbutils.widgets.text(\"schema_name\", \"\", \"01 - Schema Name\")"
   ]
  },
  {
   "cell_type": "code",
   "execution_count": 0,
   "metadata": {
    "application/vnd.databricks.v1+cell": {
     "cellMetadata": {
      "byteLimit": 2048000,
      "rowLimit": 10000
     },
     "inputWidgets": {},
     "nuid": "51291262-6093-47ba-ac53-88995b43fdf0",
     "showTitle": false,
     "tableResultSettingsMap": {},
     "title": ""
    }
   },
   "outputs": [],
   "source": [
    "params = dbutils.widgets.getAll()\n",
    "\n",
    "for key, value in params.items():\n",
    "  assert value != \"\", f\"Parameter {key} is empty\"\n",
    "\n",
    "locals().update(params)"
   ]
  },
  {
   "cell_type": "markdown",
   "metadata": {
    "application/vnd.databricks.v1+cell": {
     "cellMetadata": {
      "byteLimit": 2048000,
      "rowLimit": 10000
     },
     "inputWidgets": {},
     "nuid": "f8bd62c8-1cc4-4328-82e6-2457f9704dd4",
     "showTitle": false,
     "tableResultSettingsMap": {},
     "title": ""
    }
   },
   "source": [
    "# Main"
   ]
  },
  {
   "cell_type": "markdown",
   "metadata": {
    "application/vnd.databricks.v1+cell": {
     "cellMetadata": {
      "byteLimit": 2048000,
      "rowLimit": 10000
     },
     "inputWidgets": {},
     "nuid": "1b9af670-24ca-4cdd-ab7c-172296bc2cb8",
     "showTitle": false,
     "tableResultSettingsMap": {},
     "title": ""
    }
   },
   "source": [
    "## Unity Catalog Assets"
   ]
  },
  {
   "cell_type": "code",
   "execution_count": 0,
   "metadata": {
    "application/vnd.databricks.v1+cell": {
     "cellMetadata": {
      "byteLimit": 2048000,
      "rowLimit": 10000
     },
     "inputWidgets": {},
     "nuid": "7973ba8c-7bb9-4c90-8a7c-a6f3a83ec1d3",
     "showTitle": false,
     "tableResultSettingsMap": {},
     "title": ""
    }
   },
   "outputs": [],
   "source": [
    "#spark.sql(f\"CREATE CATALOG IF NOT EXISTS {catalog_name}\");\n",
    "spark.sql(f\"CREATE SCHEMA IF NOT EXISTS {catalog_name}.{schema_name}\");\n",
    "spark.sql(f\"CREATE VOLUME IF NOT EXISTS {catalog_name}.{schema_name}.input_volume\")"
   ]
  },
  {
   "cell_type": "markdown",
   "metadata": {
    "application/vnd.databricks.v1+cell": {
     "cellMetadata": {
      "byteLimit": 2048000,
      "rowLimit": 10000
     },
     "inputWidgets": {},
     "nuid": "33d715d0-a121-4865-8485-2121d4d16a8f",
     "showTitle": false,
     "tableResultSettingsMap": {},
     "title": ""
    }
   },
   "source": [
    "## Data Assets"
   ]
  },
  {
   "cell_type": "markdown",
   "metadata": {
    "application/vnd.databricks.v1+cell": {
     "cellMetadata": {
      "byteLimit": 2048000,
      "rowLimit": 10000
     },
     "inputWidgets": {},
     "nuid": "1beb4031-1416-4aea-908e-f172447cb657",
     "showTitle": false,
     "tableResultSettingsMap": {},
     "title": ""
    }
   },
   "source": [
    "Using [dbldatagen.datasets.multi_table_telephony_provider](https://databrickslabs.github.io/dbldatagen/public_docs/reference/api/dbldatagen.datasets.multi_table_telephony_provider.html#module-dbldatagen.datasets.multi_table_telephony_provider)"
   ]
  },
  {
   "cell_type": "code",
   "execution_count": 0,
   "metadata": {
    "application/vnd.databricks.v1+cell": {
     "cellMetadata": {
      "byteLimit": 2048000,
      "rowLimit": 10000
     },
     "inputWidgets": {},
     "nuid": "193108df-ef9c-408e-b0b3-559b26df23b2",
     "showTitle": false,
     "tableResultSettingsMap": {},
     "title": ""
    }
   },
   "outputs": [],
   "source": [
    "import dbldatagen as dg\n",
    "import pyspark.sql.functions as F"
   ]
  },
  {
   "cell_type": "markdown",
   "metadata": {
    "application/vnd.databricks.v1+cell": {
     "cellMetadata": {
      "byteLimit": 2048000,
      "rowLimit": 10000
     },
     "inputWidgets": {},
     "nuid": "c2408236-5771-4f08-8cc9-39f9662b1808",
     "showTitle": false,
     "tableResultSettingsMap": {},
     "title": ""
    }
   },
   "source": [
    "### Parameters"
   ]
  },
  {
   "cell_type": "code",
   "execution_count": 0,
   "metadata": {
    "application/vnd.databricks.v1+cell": {
     "cellMetadata": {
      "byteLimit": 2048000,
      "rowLimit": 10000
     },
     "inputWidgets": {},
     "nuid": "c65b5018-784c-41d5-9e46-9245ffa373a4",
     "showTitle": false,
     "tableResultSettingsMap": {},
     "title": ""
    }
   },
   "outputs": [],
   "source": [
    "UNIQUE_PLANS = 20\n",
    "PLAN_MIN_VALUE = 100\n",
    "\n",
    "UNIQUE_CUSTOMERS = 1000\n",
    "CUSTOMER_MIN_VALUE = 1000\n",
    "DEVICE_MIN_VALUE = 1000000000\n",
    "SUBSCRIBER_NUM_MIN_VALUE = 1000000000\n",
    "\n",
    "AVG_EVENTS_PER_CUSTOMER = 50"
   ]
  },
  {
   "cell_type": "markdown",
   "metadata": {
    "application/vnd.databricks.v1+cell": {
     "cellMetadata": {
      "byteLimit": 2048000,
      "rowLimit": 10000
     },
     "inputWidgets": {},
     "nuid": "adec0d00-c9c6-43c7-899f-b40d9afa1851",
     "showTitle": false,
     "tableResultSettingsMap": {},
     "title": ""
    }
   },
   "source": [
    "### Plan Data"
   ]
  },
  {
   "cell_type": "code",
   "execution_count": 0,
   "metadata": {
    "application/vnd.databricks.v1+cell": {
     "cellMetadata": {
      "byteLimit": 2048000,
      "rowLimit": 10000
     },
     "inputWidgets": {},
     "nuid": "f4ec75d4-db65-4868-ac0c-f240b00560e7",
     "showTitle": false,
     "tableResultSettingsMap": {},
     "title": ""
    }
   },
   "outputs": [],
   "source": [
    "shuffle_partitions_requested = 8\n",
    "partitions_requested = 1\n",
    "data_rows = UNIQUE_PLANS # we'll generate one row for each plan\n",
    "\n",
    "plan_dataspec = (\n",
    "    dg.DataGenerator(spark, rows=data_rows, partitions=partitions_requested)\n",
    "    .withColumn(\"plan_id\",\"int\", minValue=PLAN_MIN_VALUE, uniqueValues=UNIQUE_PLANS)\n",
    "    # use plan_id as root value\n",
    "    .withColumn(\"plan_name\", prefix=\"plan\", baseColumn=\"plan_id\")\n",
    "\n",
    "    # note default step is 1 so you must specify a step for small number ranges,\n",
    "    .withColumn(\"cost_per_mb\", \"decimal(5,3)\", minValue=0.005, maxValue=0.050,\n",
    "                step=0.005, random=True)\n",
    "    .withColumn(\"cost_per_message\", \"decimal(5,3)\", minValue=0.001, maxValue=0.02,\n",
    "                step=0.001, random=True)\n",
    "    .withColumn(\"cost_per_minute\", \"decimal(5,3)\", minValue=0.001, maxValue=0.01,\n",
    "                step=0.001, random=True)\n",
    "\n",
    "    # we're modelling long distance and international prices simplistically -\n",
    "    # each is a multiplier thats applied to base rate\n",
    "    .withColumn(\"ld_multiplier\", \"decimal(5,3)\", minValue=1.5, maxValue=3, step=0.05,\n",
    "                random=True, distribution=\"normal\", omit=True)\n",
    "    .withColumn(\"ld_cost_per_minute\", \"decimal(5,3)\",\n",
    "                expr=\"cost_per_minute * ld_multiplier\",\n",
    "                baseColumns=['cost_per_minute', 'ld_multiplier'])\n",
    "    .withColumn(\"intl_multiplier\", \"decimal(5,3)\", minValue=2, maxValue=4, step=0.05,\n",
    "                random=True,  distribution=\"normal\", omit=True)\n",
    "    .withColumn(\"intl_cost_per_minute\", \"decimal(5,3)\",\n",
    "                expr=\"cost_per_minute * intl_multiplier\",\n",
    "                baseColumns=['cost_per_minute', 'intl_multiplier'])\n",
    "            )\n",
    "\n",
    "df_plans = (\n",
    "    plan_dataspec.build()\n",
    "    .withColumn(\"plan_id\", F.col(\"plan_id\").cast(\"string\"))\n",
    ")\n",
    "\n",
    "(\n",
    "    df_plans\n",
    "    .write.mode(\"overwrite\")\n",
    "    .saveAsTable(f\"{catalog_name}.{schema_name}.plans\")\n",
    ")"
   ]
  },
  {
   "cell_type": "code",
   "execution_count": 0,
   "metadata": {
    "application/vnd.databricks.v1+cell": {
     "cellMetadata": {
      "byteLimit": 2048000,
      "implicitDf": true,
      "rowLimit": 10000
     },
     "inputWidgets": {},
     "nuid": "2293592b-4393-4293-b9cc-d091b8a092b7",
     "showTitle": false,
     "tableResultSettingsMap": {},
     "title": ""
    }
   },
   "outputs": [],
   "source": [
    "%sql\n",
    "SELECT\n",
    "  *\n",
    "FROM IDENTIFIER(:catalog_name || '.' || :schema_name || '.' || 'plans')\n",
    "LIMIT 10"
   ]
  },
  {
   "cell_type": "markdown",
   "metadata": {
    "application/vnd.databricks.v1+cell": {
     "cellMetadata": {
      "byteLimit": 2048000,
      "rowLimit": 10000
     },
     "inputWidgets": {},
     "nuid": "e4a1fdb8-b33f-4a00-af53-d8d69de0bdcf",
     "showTitle": false,
     "tableResultSettingsMap": {},
     "title": ""
    }
   },
   "source": [
    "### Customers"
   ]
  },
  {
   "cell_type": "code",
   "execution_count": 0,
   "metadata": {
    "application/vnd.databricks.v1+cell": {
     "cellMetadata": {
      "byteLimit": 2048000,
      "rowLimit": 10000
     },
     "inputWidgets": {},
     "nuid": "da6d8260-f80d-4f16-acac-9d361c6a2a0d",
     "showTitle": false,
     "tableResultSettingsMap": {},
     "title": ""
    }
   },
   "outputs": [],
   "source": [
    "shuffle_partitions_requested = 8\n",
    "partitions_requested = 8\n",
    "data_rows = UNIQUE_CUSTOMERS\n",
    "\n",
    "customer_dataspec = (dg.DataGenerator(spark, rows=data_rows, partitions=partitions_requested)\n",
    "            .withColumn(\"customer_id\",\"decimal(10)\", minValue=CUSTOMER_MIN_VALUE,\n",
    "                        uniqueValues=UNIQUE_CUSTOMERS)\n",
    "            .withColumn(\"customer_name\", template=r\"\\\\w \\\\w|\\\\w a. \\\\w\")\n",
    "\n",
    "            # use the following for a simple sequence\n",
    "            #.withColumn(\"device_id\",\"decimal(10)\", minValue=DEVICE_MIN_VALUE,\n",
    "            #              uniqueValues=UNIQUE_CUSTOMERS)\n",
    "\n",
    "            .withColumn(\"device_id\",\"decimal(10)\",  minValue=DEVICE_MIN_VALUE,\n",
    "                        baseColumn=\"customer_id\", baseColumnType=\"hash\")\n",
    "\n",
    "            .withColumn(\"phone_number\",\"decimal(10)\",  minValue=SUBSCRIBER_NUM_MIN_VALUE,\n",
    "                        baseColumn=[\"customer_id\", \"customer_name\"], baseColumnType=\"hash\")\n",
    "\n",
    "            # for email, we'll just use the formatted phone number\n",
    "            .withColumn(\"email\",\"string\",  format=\"subscriber_%s@myoperator.com\",\n",
    "                        baseColumn=\"phone_number\")\n",
    "            .withColumn(\"plan_id\", \"int\", minValue=PLAN_MIN_VALUE, uniqueValues=UNIQUE_PLANS,\n",
    "                        random=True)\n",
    "            )\n",
    "\n",
    "df_customers = (customer_dataspec.build()\n",
    "                .dropDuplicates([\"device_id\"])\n",
    "                .dropDuplicates([\"phone_number\"])\n",
    "                .orderBy(\"customer_id\")\n",
    "                .withColumn(\"customer_id\", F.col(\"customer_id\").cast(\"string\"))\n",
    "                .withColumn(\"device_id\", F.col(\"device_id\").cast(\"string\"))\n",
    "                .withColumn(\"plan_id\", F.col(\"plan_id\").cast(\"string\"))\n",
    "               )\n",
    "\n",
    "effective_customers = df_customers.count()\n",
    "\n",
    "print(\n",
    "  f\"\"\"revised customers : {df_customers.count()},\n",
    "   |   unique customers: {df_customers.select(F.countDistinct('customer_id')).take(1)[0][0]},\n",
    "   |   unique device ids: {df_customers.select(F.countDistinct('device_id')).take(1)[0][0]},\n",
    "   |   unique phone numbers: {df_customers.select(F.countDistinct('phone_number')).take(1)[0][0]}\"\"\".strip()\n",
    "     )\n",
    "\n",
    "(\n",
    "  df_customers\n",
    "  .write.mode(\"overwrite\")\n",
    "  .saveAsTable(f\"{catalog_name}.{schema_name}.customers\")\n",
    ")"
   ]
  },
  {
   "cell_type": "code",
   "execution_count": 0,
   "metadata": {
    "application/vnd.databricks.v1+cell": {
     "cellMetadata": {
      "byteLimit": 2048000,
      "implicitDf": true,
      "rowLimit": 10000
     },
     "inputWidgets": {},
     "nuid": "47866a67-2a87-4fc8-9c8c-8dc83aae217a",
     "showTitle": false,
     "tableResultSettingsMap": {},
     "title": ""
    }
   },
   "outputs": [],
   "source": [
    "%sql\n",
    "SELECT\n",
    "  *\n",
    "FROM IDENTIFIER(:catalog_name || '.' || :schema_name || '.' || 'customers')\n",
    "LIMIT 10"
   ]
  },
  {
   "cell_type": "markdown",
   "metadata": {
    "application/vnd.databricks.v1+cell": {
     "cellMetadata": {
      "byteLimit": 2048000,
      "rowLimit": 10000
     },
     "inputWidgets": {},
     "nuid": "8ce88db1-5435-4f16-a1ad-a8e141fa7efe",
     "showTitle": false,
     "tableResultSettingsMap": {},
     "title": ""
    }
   },
   "source": [
    "### Device Events"
   ]
  },
  {
   "cell_type": "code",
   "execution_count": 0,
   "metadata": {
    "application/vnd.databricks.v1+cell": {
     "cellMetadata": {
      "byteLimit": 2048000,
      "rowLimit": 10000
     },
     "inputWidgets": {},
     "nuid": "82549507-a935-4844-b367-357923e985ff",
     "showTitle": false,
     "tableResultSettingsMap": {},
     "title": ""
    }
   },
   "outputs": [],
   "source": [
    "shuffle_partitions_requested = 8\n",
    "partitions_requested = 8\n",
    "NUM_DAYS=365\n",
    "MB_100 = 100 * 1000 * 1000\n",
    "K_1 = 1000\n",
    "data_rows = AVG_EVENTS_PER_CUSTOMER * UNIQUE_CUSTOMERS * NUM_DAYS\n",
    "\n",
    "\n",
    "\n",
    "# use random seed method of 'hash_fieldname' for better spread - default in later builds\n",
    "events_dataspec = (dg.DataGenerator(spark, rows=data_rows, partitions=partitions_requested,\n",
    "                   randomSeed=42, randomSeedMethod=\"hash_fieldname\")\n",
    "             # use same logic as per customers dataset to ensure matching keys\n",
    "             # but make them random\n",
    "            .withColumn(\"device_id_base\",\"decimal(10)\", minValue=CUSTOMER_MIN_VALUE,\n",
    "                        uniqueValues=UNIQUE_CUSTOMERS,\n",
    "                        random=True, omit=True)\n",
    "            .withColumn(\"device_id\",\"decimal(10)\",  minValue=DEVICE_MIN_VALUE,\n",
    "                        baseColumn=\"device_id_base\", baseColumnType=\"hash\")\n",
    "\n",
    "            # use specific random seed to get better spread of values\n",
    "            .withColumn(\"event_type\",\"string\",\n",
    "                        values=[ \"sms\", \"internet\", \"local call\", \"ld call\", \"intl call\" ],\n",
    "                        weights=[50, 50, 20, 10, 5 ], random=True)\n",
    "\n",
    "            # use Gamma distribution for skew towards short calls\n",
    "            .withColumn(\"base_minutes\",\"decimal(7,2)\",\n",
    "                        minValue=1.0, maxValue=100.0, step=0.1,\n",
    "                        distribution=dg.distributions.Gamma(shape=1.5, scale=2.0),\n",
    "                        random=True, omit=True)\n",
    "\n",
    "            # use Gamma distribution for skew towards short transfers\n",
    "            .withColumn(\"base_bytes_transferred\",\"decimal(12)\",\n",
    "                        minValue=K_1, maxValue=MB_100,\n",
    "                        distribution=dg.distributions.Gamma(shape=0.75, scale=2.0),\n",
    "                        random=True, omit=True)\n",
    "\n",
    "            .withColumn(\"minutes\", \"decimal(7,2)\",\n",
    "                        baseColumn=[\"event_type\", \"base_minutes\"],\n",
    "                        expr= \"\"\"\n",
    "                              case when event_type in (\"local call\", \"ld call\", \"intl call\")\n",
    "                                  then base_minutes\n",
    "                                  else 0\n",
    "                              end\n",
    "                               \"\"\")\n",
    "            .withColumn(\"bytes_transferred\", \"decimal(12)\",\n",
    "                        baseColumn=[\"event_type\", \"base_bytes_transferred\"],\n",
    "                        expr= \"\"\"\n",
    "                              case when event_type = \"internet\"\n",
    "                                   then base_bytes_transferred\n",
    "                                   else 0\n",
    "                              end\n",
    "                               \"\"\")\n",
    "            \n",
    "            .withColumn(\"event_second_shift\", \"decimal(10,2)\",\n",
    "                        minValue=0.0, maxValue=365*24*60*60,\n",
    "                        random=True, omit=True)\n",
    "\n",
    "            .withColumn(\"event_ts\", \"timestamp\",\n",
    "                        baseColumn=[\"event_second_shift\"],\n",
    "                        expr=f\"\"\"\n",
    "                                timestampadd(SECOND, event_second_shift, current_date() - {NUM_DAYS})\n",
    "                             \"\"\")\n",
    "            )\n",
    "\n",
    "df_events = (\n",
    "    events_dataspec.build()\n",
    "    .withColumn(\"device_id\", F.col(\"device_id\").cast(\"string\"))\n",
    ")\n",
    "\n",
    "(\n",
    "    df_events\n",
    "    .write.mode(\"overwrite\")\n",
    "    .saveAsTable(f\"{catalog_name}.{schema_name}.events\")\n",
    ")"
   ]
  },
  {
   "cell_type": "code",
   "execution_count": 0,
   "metadata": {
    "application/vnd.databricks.v1+cell": {
     "cellMetadata": {
      "byteLimit": 2048000,
      "implicitDf": true,
      "rowLimit": 10000
     },
     "inputWidgets": {},
     "nuid": "067d6ed4-7cba-4865-85b1-adf7a71668a1",
     "showTitle": false,
     "tableResultSettingsMap": {},
     "title": ""
    }
   },
   "outputs": [],
   "source": [
    "%sql\n",
    "SELECT\n",
    "  *\n",
    "FROM IDENTIFIER(:catalog_name || '.' || :schema_name || '.' || 'events')\n",
    "LIMIT 10"
   ]
  },
  {
   "cell_type": "markdown",
   "metadata": {
    "application/vnd.databricks.v1+cell": {
     "cellMetadata": {
      "byteLimit": 2048000,
      "rowLimit": 10000
     },
     "inputWidgets": {},
     "nuid": "7a99e09c-6796-473d-a94d-63d026ea6be4",
     "showTitle": false,
     "tableResultSettingsMap": {},
     "title": ""
    }
   },
   "source": [
    "### Customer Demographics"
   ]
  },
  {
   "cell_type": "code",
   "execution_count": 0,
   "metadata": {
    "application/vnd.databricks.v1+cell": {
     "cellMetadata": {
      "byteLimit": 2048000,
      "rowLimit": 10000
     },
     "inputWidgets": {},
     "nuid": "69f520af-6e20-4e6b-bf65-ec378f180ef9",
     "showTitle": false,
     "tableResultSettingsMap": {},
     "title": ""
    }
   },
   "outputs": [],
   "source": [
    "shuffle_partitions_requested = 8\n",
    "partitions_requested = 8\n",
    "data_rows = UNIQUE_CUSTOMERS\n",
    "\n",
    "customer_demographics_dataspec = (\n",
    "  dg.DataGenerator(spark, rows=data_rows, partitions=partitions_requested)\n",
    "  .withColumn(\"customer_id\",\"decimal(10)\", minValue=CUSTOMER_MIN_VALUE,\n",
    "              uniqueValues=UNIQUE_CUSTOMERS)\n",
    "\n",
    "  .withColumn(\"days_lived\",\"decimal(7,2)\",\n",
    "              minValue=365*15, maxValue=365*50, step=0.1,\n",
    "              distribution= dg.distributions.Beta(alpha=12, beta=1.5),\n",
    "              random=True, omit=True)\n",
    "  \n",
    "  .withColumn(\"birth_date\", \"date\",\n",
    "                        baseColumn=[\"days_lived\"],\n",
    "                        expr=f\"\"\"\n",
    "                                timestampadd(DAY, -1 * days_lived, current_date())\n",
    "                             \"\"\")\n",
    "\n",
    "  .withColumn(\"days_as_customer\",\"decimal(7,2)\",\n",
    "              minValue=1.0, maxValue=365*10, step=0.1,\n",
    "              distribution= dg.distributions.Beta(alpha=12, beta=1.5),\n",
    "              random=True, omit=True)\n",
    "\n",
    "  .withColumn(\"customer_since\", \"date\",\n",
    "                        baseColumn=[\"days_as_customer\"],\n",
    "                        expr=f\"\"\"\n",
    "                                timestampadd(DAY, -1 * days_as_customer, current_date())\n",
    "                             \"\"\")\n",
    "\n",
    "  .withColumn(\"location\",\"string\",\n",
    "              values=[\"Aguascalientes\", \"Baja California\", \"Baja California Sur\", \"Campeche\",\n",
    "                      \"Chiapas\", \"Chihuahua\", \"Coahuila\", \"Colima\", \"Durango\", \"Guanajuato\",\n",
    "                      \"Guerrero\", \"Hidalgo\", \"Jalisco\", \"México\", \"Michoacán\", \"Morelos\",\n",
    "                      \"Nayarit\", \"Nuevo León\", \"Oaxaca\", \"Puebla\", \"Querétaro\", \"Quintana Roo\",\n",
    "                      \"San Luis Potosí\", \"Sinaloa\", \"Sonora\", \"Tabasco\", \"Tamaulipas\", \"Tlaxcala\",\n",
    "                      \"Veracruz\", \"Yucatán\", \"Zacatecas\", \"Ciudad de México\"],\n",
    "              weights=[14, 37, 7, 9, 55, 38, 31, 7, 18, 62,\n",
    "                        35, 31, 83, 174, 48, 19, 13, 55, 41,\n",
    "                        65, 22, 18, 28, 30, 29, 22, 37, 13,\n",
    "                        81, 22, 16,92], random=True)\n",
    "  )\n",
    "\n",
    "df_customer_demographics = (\n",
    "  customer_demographics_dataspec.build()\n",
    "  .dropDuplicates([\"customer_id\"])\n",
    "  .withColumn(\"customer_id\", F.col(\"customer_id\").cast(\"string\"))\n",
    ")\n",
    "\n",
    "\n",
    "(\n",
    "  df_customer_demographics\n",
    "  .write.mode(\"overwrite\")\n",
    "  .saveAsTable(f\"{catalog_name}.{schema_name}.customer_demographics\")\n",
    ")"
   ]
  },
  {
   "cell_type": "code",
   "execution_count": 0,
   "metadata": {
    "application/vnd.databricks.v1+cell": {
     "cellMetadata": {
      "byteLimit": 2048000,
      "implicitDf": true,
      "rowLimit": 10000
     },
     "inputWidgets": {},
     "nuid": "b0bc9f1e-7afe-4a37-ae40-cbb51cb0b527",
     "showTitle": false,
     "tableResultSettingsMap": {},
     "title": ""
    }
   },
   "outputs": [],
   "source": [
    "%sql\n",
    "SELECT * FROM IDENTIFIER(:catalog_name || '.' || :schema_name || '.' || 'customer_demographics')\n",
    "LIMIT 10"
   ]
  },
  {
   "cell_type": "markdown",
   "metadata": {
    "application/vnd.databricks.v1+cell": {
     "cellMetadata": {
      "byteLimit": 2048000,
      "rowLimit": 10000
     },
     "inputWidgets": {},
     "nuid": "3fd91a33-dd42-420b-a78e-0f3a415d705f",
     "showTitle": false,
     "tableResultSettingsMap": {},
     "title": ""
    }
   },
   "source": [
    "### Customer Plan Changes"
   ]
  },
  {
   "cell_type": "markdown",
   "metadata": {
    "application/vnd.databricks.v1+cell": {
     "cellMetadata": {
      "byteLimit": 2048000,
      "rowLimit": 10000
     },
     "inputWidgets": {},
     "nuid": "5b5bfe85-ed7b-4986-a7f8-7f2034bfdd5a",
     "showTitle": false,
     "tableResultSettingsMap": {},
     "title": ""
    }
   },
   "source": [
    "TODO: WHEN A CUSTOMER CHANGES FROM ONE PLAN TO ANOTHER"
   ]
  },
  {
   "cell_type": "markdown",
   "metadata": {
    "application/vnd.databricks.v1+cell": {
     "cellMetadata": {
      "byteLimit": 2048000,
      "rowLimit": 10000
     },
     "inputWidgets": {},
     "nuid": "bc9cb2fe-0fcd-459f-9cce-c580286692ab",
     "showTitle": false,
     "tableResultSettingsMap": {},
     "title": ""
    }
   },
   "source": [
    "### Add Primary Keys & Foreign Keys"
   ]
  },
  {
   "cell_type": "code",
   "execution_count": 0,
   "metadata": {
    "application/vnd.databricks.v1+cell": {
     "cellMetadata": {
      "byteLimit": 2048000,
      "implicitDf": true,
      "rowLimit": 10000
     },
     "inputWidgets": {},
     "nuid": "faf5766a-323e-4d77-b671-18efb8f40e55",
     "showTitle": false,
     "tableResultSettingsMap": {},
     "title": ""
    }
   },
   "outputs": [],
   "source": [
    "%sql\n",
    "ALTER TABLE IDENTIFIER(:catalog_name || '.' || :schema_name || '.' || 'plans')\n",
    "  ALTER COLUMN plan_id SET NOT NULL;\n",
    "\n",
    "ALTER TABLE IDENTIFIER(:catalog_name || '.' || :schema_name || '.' || 'customers')\n",
    "  ALTER COLUMN customer_id SET NOT NULL;\n",
    "\n",
    "ALTER TABLE IDENTIFIER(:catalog_name || '.' || :schema_name || '.' || 'customer_demographics')\n",
    "  ALTER COLUMN customer_id SET NOT NULL;\n",
    "\n",
    "ALTER TABLE IDENTIFIER(:catalog_name || '.' || :schema_name || '.' || 'customer_demographics')\n",
    "  ADD CONSTRAINT customer_demographics_pk PRIMARY KEY (customer_id);"
   ]
  },
  {
   "cell_type": "code",
   "execution_count": 0,
   "metadata": {
    "application/vnd.databricks.v1+cell": {
     "cellMetadata": {
      "byteLimit": 2048000,
      "implicitDf": true,
      "rowLimit": 10000
     },
     "inputWidgets": {},
     "nuid": "e4d63c8c-66a1-48a0-8f82-f09c34511116",
     "showTitle": false,
     "tableResultSettingsMap": {},
     "title": ""
    }
   },
   "outputs": [],
   "source": [
    "%sql\n",
    "ALTER TABLE IDENTIFIER(:catalog_name || '.' || :schema_name || '.' || 'plans')\n",
    "  ADD CONSTRAINT plans_pk PRIMARY KEY (plan_id);\n",
    "\n",
    "ALTER TABLE IDENTIFIER(:catalog_name || '.' || :schema_name || '.' || 'customers')\n",
    "  ADD CONSTRAINT customers_pk PRIMARY KEY (customer_id);\n",
    "\n",
    "/*\n",
    "ALTER TABLE IDENTIFIER(:catalog_name || '.' || :schema_name || '.' || 'customers')\n",
    "  ADD CONSTRAINT customers_plans_fk\n",
    "    FOREIGN KEY(plan) REFERENCES IDENTIFIER(:catalog_name || '.' || :schema_name || '.' || 'plans');\n",
    "*/"
   ]
  },
  {
   "cell_type": "code",
   "execution_count": 0,
   "metadata": {
    "application/vnd.databricks.v1+cell": {
     "cellMetadata": {
      "byteLimit": 2048000,
      "rowLimit": 10000
     },
     "inputWidgets": {},
     "nuid": "b28bc025-4951-4064-8097-edbf7537be5a",
     "showTitle": false,
     "tableResultSettingsMap": {},
     "title": ""
    }
   },
   "outputs": [],
   "source": [
    "spark.sql(f\"\"\"\n",
    "ALTER TABLE {catalog_name}.{schema_name}.customers\n",
    "  ADD CONSTRAINT customers_plans_fk\n",
    "    FOREIGN KEY(plan_id) REFERENCES {catalog_name}.{schema_name}.plans;\"\"\")\n",
    "\n",
    "spark.sql(f\"\"\"\n",
    "ALTER TABLE {catalog_name}.{schema_name}.customer_demographics\n",
    "  ADD CONSTRAINT customer_demographic_customers_fk\n",
    "    FOREIGN KEY(customer_id) REFERENCES {catalog_name}.{schema_name}.customers;\"\"\")"
   ]
  }
 ],
 "metadata": {
  "application/vnd.databricks.v1+notebook": {
   "computePreferences": null,
   "dashboards": [],
   "environmentMetadata": {
    "base_environment": "",
    "environment_version": "2"
   },
   "inputWidgetPreferences": null,
   "language": "python",
   "notebookMetadata": {
    "mostRecentlyExecutedCommandWithImplicitDF": {
     "commandId": 578676876699141,
     "dataframes": [
      "_sqldf"
     ]
    },
    "pythonIndentUnit": 2
   },
   "notebookName": "00 - SETUP",
   "widgets": {
    "catalog_name": {
     "currentValue": "daniel_perez",
     "nuid": "5076f91a-4046-4b5e-8f65-2eb81eea86c4",
     "typedWidgetInfo": {
      "autoCreated": false,
      "defaultValue": "",
      "label": "00 - Catalog Name",
      "name": "catalog_name",
      "options": {
       "widgetDisplayType": "Text",
       "validationRegex": null
      },
      "parameterDataType": "String"
     },
     "widgetInfo": {
      "widgetType": "text",
      "defaultValue": "",
      "label": "00 - Catalog Name",
      "name": "catalog_name",
      "options": {
       "widgetType": "text",
       "autoCreated": null,
       "validationRegex": null
      }
     }
    },
    "schema_name": {
     "currentValue": "att_ml",
     "nuid": "a3cf7b13-825c-44f0-94a3-cf9dd1ace87e",
     "typedWidgetInfo": {
      "autoCreated": false,
      "defaultValue": "",
      "label": "01 - Schema Name",
      "name": "schema_name",
      "options": {
       "widgetDisplayType": "Text",
       "validationRegex": null
      },
      "parameterDataType": "String"
     },
     "widgetInfo": {
      "widgetType": "text",
      "defaultValue": "",
      "label": "01 - Schema Name",
      "name": "schema_name",
      "options": {
       "widgetType": "text",
       "autoCreated": null,
       "validationRegex": null
      }
     }
    }
   }
  },
  "language_info": {
   "name": "python"
  }
 },
 "nbformat": 4,
 "nbformat_minor": 0
}
