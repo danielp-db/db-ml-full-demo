{
 "cells": [
  {
   "cell_type": "markdown",
   "metadata": {
    "application/vnd.databricks.v1+cell": {
     "cellMetadata": {
      "byteLimit": 2048000,
      "rowLimit": 10000
     },
     "inputWidgets": {},
     "nuid": "72da1ec1-c217-4c61-8a91-e8f9902c11af",
     "showTitle": false,
     "tableResultSettingsMap": {},
     "title": ""
    }
   },
   "source": [
    "# Description"
   ]
  },
  {
   "cell_type": "markdown",
   "metadata": {
    "application/vnd.databricks.v1+cell": {
     "cellMetadata": {
      "byteLimit": 2048000,
      "rowLimit": 10000
     },
     "inputWidgets": {},
     "nuid": "36a78530-89d1-45b1-bc0a-d0d6b1a69862",
     "showTitle": false,
     "tableResultSettingsMap": {},
     "title": ""
    }
   },
   "source": [
    "Databricks is well known as a Data Engineering platform, where engineers can ingest multiple data sources and transform them into new data products. Most often following the Medallion Architecture.\n",
    "\n",
    "Databricks can ingest data from all kind of different sources, from cloud storage, to APIs, federated databases, streaming sources like kafka etc. Databricks is able to orchestrate the ingestion with different frequencies based on the trigger type, from continuous to batch, and able to do full or incremental loads."
   ]
  },
  {
   "cell_type": "markdown",
   "metadata": {
    "application/vnd.databricks.v1+cell": {
     "cellMetadata": {
      "byteLimit": 2048000,
      "rowLimit": 10000
     },
     "inputWidgets": {},
     "nuid": "8e684c8c-f0c9-4aeb-a2f8-5686ff2dadd4",
     "showTitle": false,
     "tableResultSettingsMap": {},
     "title": ""
    }
   },
   "source": [
    "# Boilerplate"
   ]
  },
  {
   "cell_type": "markdown",
   "metadata": {
    "application/vnd.databricks.v1+cell": {
     "cellMetadata": {
      "byteLimit": 2048000,
      "rowLimit": 10000
     },
     "inputWidgets": {},
     "nuid": "28b87b1c-34eb-4686-9407-e352e4e51060",
     "showTitle": false,
     "tableResultSettingsMap": {},
     "title": ""
    }
   },
   "source": [
    "## Dependencies"
   ]
  },
  {
   "cell_type": "markdown",
   "metadata": {
    "application/vnd.databricks.v1+cell": {
     "cellMetadata": {
      "byteLimit": 2048000,
      "rowLimit": 10000
     },
     "inputWidgets": {},
     "nuid": "2146e523-931b-4769-92ac-dea70764fc89",
     "showTitle": false,
     "tableResultSettingsMap": {},
     "title": ""
    }
   },
   "source": [
    "## Parameters"
   ]
  },
  {
   "cell_type": "code",
   "execution_count": 0,
   "metadata": {
    "application/vnd.databricks.v1+cell": {
     "cellMetadata": {
      "byteLimit": 2048000,
      "rowLimit": 10000
     },
     "inputWidgets": {},
     "nuid": "f83a77ae-e9c3-483d-a065-52f18607da32",
     "showTitle": false,
     "tableResultSettingsMap": {},
     "title": ""
    }
   },
   "outputs": [],
   "source": [
    "dbutils.widgets.text(\"catalog_name\", \"\", \"00 - Catalog Name\")\n",
    "dbutils.widgets.text(\"schema_name\", \"\", \"01 - Schema Name\")"
   ]
  },
  {
   "cell_type": "code",
   "execution_count": 0,
   "metadata": {
    "application/vnd.databricks.v1+cell": {
     "cellMetadata": {
      "byteLimit": 2048000,
      "rowLimit": 10000
     },
     "inputWidgets": {},
     "nuid": "a135fad5-e542-436a-acdb-d3eceaac0b37",
     "showTitle": false,
     "tableResultSettingsMap": {},
     "title": ""
    }
   },
   "outputs": [],
   "source": [
    "params = dbutils.widgets.getAll()\n",
    "\n",
    "for key, value in params.items():\n",
    "  assert value != \"\", f\"Parameter {key} is empty\"\n",
    "\n",
    "locals().update(params)"
   ]
  },
  {
   "cell_type": "markdown",
   "metadata": {
    "application/vnd.databricks.v1+cell": {
     "cellMetadata": {
      "byteLimit": 2048000,
      "rowLimit": 10000
     },
     "inputWidgets": {},
     "nuid": "ecf3777c-7544-419c-af9a-930a4699f72f",
     "showTitle": false,
     "tableResultSettingsMap": {},
     "title": ""
    }
   },
   "source": [
    "# Main"
   ]
  },
  {
   "cell_type": "code",
   "execution_count": 0,
   "metadata": {
    "application/vnd.databricks.v1+cell": {
     "cellMetadata": {
      "byteLimit": 2048000,
      "rowLimit": 10000
     },
     "inputWidgets": {},
     "nuid": "1ba78d62-bde8-4a02-853a-f07d2c17a638",
     "showTitle": true,
     "tableResultSettingsMap": {},
     "title": ""
    }
   },
   "outputs": [],
   "source": [
    "df_plans = spark.read.table(f\"{catalog_name}.{schema_name}.plans\")\n",
    "df_customers = spark.read.table(f\"{catalog_name}.{schema_name}.customers\")\n",
    "df_events = spark.read.table(f\"{catalog_name}.{schema_name}.events\")"
   ]
  },
  {
   "cell_type": "markdown",
   "metadata": {
    "application/vnd.databricks.v1+cell": {
     "cellMetadata": {
      "byteLimit": 2048000,
      "rowLimit": 10000
     },
     "inputWidgets": {},
     "nuid": "cbdf025c-7083-4c96-9a15-602907b13369",
     "showTitle": false,
     "tableResultSettingsMap": {},
     "title": ""
    }
   },
   "source": [
    "## Customer Pricing"
   ]
  },
  {
   "cell_type": "code",
   "execution_count": 0,
   "metadata": {
    "application/vnd.databricks.v1+cell": {
     "cellMetadata": {
      "byteLimit": 2048000,
      "rowLimit": 10000
     },
     "inputWidgets": {},
     "nuid": "c3e2510b-72b4-44fc-a7cb-dda4a338b3ef",
     "showTitle": false,
     "tableResultSettingsMap": {},
     "title": ""
    }
   },
   "outputs": [],
   "source": [
    "df_customer_pricing = df_customers.join(df_plans, df_plans.plan_id == df_customers.plan_id)\n",
    "\n",
    "df_customer_pricing.display()"
   ]
  },
  {
   "cell_type": "markdown",
   "metadata": {
    "application/vnd.databricks.v1+cell": {
     "cellMetadata": {
      "byteLimit": 2048000,
      "rowLimit": 10000
     },
     "inputWidgets": {},
     "nuid": "bee81348-2113-4fdd-95cf-17314608a925",
     "showTitle": false,
     "tableResultSettingsMap": {},
     "title": ""
    }
   },
   "source": [
    "## Device Event Summary"
   ]
  },
  {
   "cell_type": "code",
   "execution_count": 0,
   "metadata": {
    "application/vnd.databricks.v1+cell": {
     "cellMetadata": {
      "byteLimit": 2048000,
      "rowLimit": 10000
     },
     "inputWidgets": {},
     "nuid": "ba11b23f-b657-4789-9f09-4fea12d729da",
     "showTitle": false,
     "tableResultSettingsMap": {},
     "title": ""
    }
   },
   "outputs": [],
   "source": [
    "import pyspark.sql.functions as F\n",
    "import pyspark.sql.types as T\n",
    "\n",
    "\n",
    "# lets compute the summary minutes messages and bytes transferred\n",
    "df_enriched_events = (\n",
    "  df_events\n",
    "  .withColumn(\"event_month\", F.date_trunc(\"month\", F.col(\"event_ts\")).cast(T.DateType()))\n",
    "  .withColumn(\"message_count\",\n",
    "              F.expr(\"\"\"case\n",
    "                    when event_type='sms' then 1\n",
    "                     else 0 end\"\"\"))\n",
    "  .withColumn(\"ld_minutes\",\n",
    "              F.expr(\"\"\"case\n",
    "                     when event_type='ld call'\n",
    "                     then cast(ceil(minutes) as decimal(18,3))\n",
    "                     else 0.0 end\"\"\"))\n",
    "  .withColumn(\"local_minutes\",\n",
    "              F.expr(\"\"\"case when event_type='local call'\n",
    "                     then cast(ceil(minutes) as decimal(18,3))\n",
    "                     else 0.0 end\"\"\"))\n",
    "  .withColumn(\"intl_minutes\",\n",
    "              F.expr(\"\"\"case when event_type='intl call'\n",
    "                     then cast(ceil(minutes) as decimal(18,3))\n",
    "                     else 0.0 end\"\"\"))\n",
    "  )\n",
    "\n",
    "df_summary = spark.sql(\"\"\"\n",
    "  select\n",
    "    device_id\n",
    "    , event_month\n",
    "    , round(sum(bytes_transferred) / 1000000.0, 3) as total_mb\n",
    "    , sum(message_count) as total_messages\n",
    "    , sum(ld_minutes) as total_ld_minutes\n",
    "    , sum(local_minutes) as total_local_minutes\n",
    "    , sum(intl_minutes) as total_intl_minutes\n",
    "    , count(device_id) as event_count\n",
    "    from {df_enriched_events}\n",
    "    group by all\"\"\",\n",
    "    df_enriched_events=df_enriched_events\n",
    ")\n",
    "\n",
    "df_summary.where(\"event_count > 0\").display()"
   ]
  },
  {
   "cell_type": "markdown",
   "metadata": {
    "application/vnd.databricks.v1+cell": {
     "cellMetadata": {
      "byteLimit": 2048000,
      "rowLimit": 10000
     },
     "inputWidgets": {},
     "nuid": "f8c2b0b9-51b1-4e89-9a75-0e192b726ce1",
     "showTitle": false,
     "tableResultSettingsMap": {},
     "title": ""
    }
   },
   "source": [
    "## Customer Summary"
   ]
  },
  {
   "cell_type": "code",
   "execution_count": 0,
   "metadata": {
    "application/vnd.databricks.v1+cell": {
     "cellMetadata": {
      "byteLimit": 2048000,
      "rowLimit": 10000
     },
     "inputWidgets": {},
     "nuid": "94a89675-a098-4170-bc6d-b346a91540cb",
     "showTitle": false,
     "tableResultSettingsMap": {},
     "title": ""
    }
   },
   "outputs": [],
   "source": [
    "df_customer_summary = (\n",
    "  df_customer_pricing\n",
    "  .join(\n",
    "    df_summary,\n",
    "    df_customer_pricing.device_id == df_summary.device_id\n",
    "    )\n",
    "  )\n",
    "\n",
    "df_customer_summary.display()"
   ]
  },
  {
   "cell_type": "code",
   "execution_count": 0,
   "metadata": {
    "application/vnd.databricks.v1+cell": {
     "cellMetadata": {
      "byteLimit": 2048000,
      "rowLimit": 10000
     },
     "inputWidgets": {},
     "nuid": "329c8946-d2b5-4987-b6be-81782425bd8b",
     "showTitle": false,
     "tableResultSettingsMap": {},
     "title": ""
    }
   },
   "outputs": [],
   "source": [
    "df_invoices = spark.sql(\n",
    "  \"\"\"\n",
    "  select\n",
    "    *\n",
    "    , internet_cost + sms_cost + ld_cost + local_cost + intl_cost as total_invoice\n",
    "    from\n",
    "    (\n",
    "      select\n",
    "        customer_id\n",
    "        , event_month billing_month\n",
    "        , customer_name\n",
    "        , phone_number\n",
    "        , email\n",
    "        , plan_name\n",
    "        , cast(round(total_mb * cost_per_mb, 2) as decimal(18,3)) as internet_cost\n",
    "        , cast(round(total_ld_minutes * ld_cost_per_minute, 2) as decimal(18,2)) as ld_cost\n",
    "        , cast(round(total_local_minutes * cost_per_minute, 2) as decimal(18,2)) as local_cost\n",
    "        , cast(round(total_intl_minutes * intl_cost_per_minute, 2) as decimal(18,2)) as intl_cost\n",
    "        , cast(round(total_messages * cost_per_message, 2) as decimal(18,2)) as sms_cost\n",
    "        from {df_customer_summary}\n",
    "    )\n",
    "    \"\"\",\n",
    "    df_customer_summary = df_customer_summary\n",
    "  )\n",
    "\n",
    "df_invoices.display()"
   ]
  },
  {
   "cell_type": "code",
   "execution_count": 0,
   "metadata": {
    "application/vnd.databricks.v1+cell": {
     "cellMetadata": {
      "byteLimit": 2048000,
      "rowLimit": 10000
     },
     "inputWidgets": {},
     "nuid": "76eab662-8db2-4591-85e5-521607f77dbe",
     "showTitle": false,
     "tableResultSettingsMap": {},
     "title": ""
    }
   },
   "outputs": [],
   "source": [
    "(\n",
    "  df_invoices\n",
    "  .write.mode(\"overwrite\")\n",
    "  .saveAsTable(f\"{catalog_name}.{schema_name}.invoices\")\n",
    ")"
   ]
  },
  {
   "cell_type": "markdown",
   "metadata": {
    "application/vnd.databricks.v1+cell": {
     "cellMetadata": {
      "byteLimit": 2048000,
      "rowLimit": 10000
     },
     "inputWidgets": {},
     "nuid": "404e22bd-f31c-4171-ac0c-866da7fddac9",
     "showTitle": false,
     "tableResultSettingsMap": {},
     "title": ""
    }
   },
   "source": [
    "### Add Primary Keys and Foreign Keys"
   ]
  },
  {
   "cell_type": "code",
   "execution_count": 0,
   "metadata": {
    "application/vnd.databricks.v1+cell": {
     "cellMetadata": {
      "byteLimit": 2048000,
      "implicitDf": true,
      "rowLimit": 10000
     },
     "inputWidgets": {},
     "nuid": "a9507058-9539-4884-b753-be2766891916",
     "showTitle": false,
     "tableResultSettingsMap": {},
     "title": ""
    }
   },
   "outputs": [],
   "source": [
    "%sql\n",
    "ALTER TABLE IDENTIFIER(:catalog_name || '.' || :schema_name || '.' || 'invoices')\n",
    "  ALTER COLUMN customer_id SET NOT NULL;\n",
    "\n",
    "ALTER TABLE IDENTIFIER(:catalog_name || '.' || :schema_name || '.' || 'invoices')\n",
    "  ALTER COLUMN billing_month SET NOT NULL;\n",
    "\n",
    "ALTER TABLE IDENTIFIER(:catalog_name || '.' || :schema_name || '.' || 'invoices')\n",
    "  ADD CONSTRAINT invoices_pk PRIMARY KEY (customer_id, billing_month);"
   ]
  },
  {
   "cell_type": "code",
   "execution_count": 0,
   "metadata": {
    "application/vnd.databricks.v1+cell": {
     "cellMetadata": {
      "byteLimit": 2048000,
      "rowLimit": 10000
     },
     "inputWidgets": {},
     "nuid": "779e4f6f-6794-4861-9b2e-f9aca4e0b200",
     "showTitle": false,
     "tableResultSettingsMap": {},
     "title": ""
    }
   },
   "outputs": [],
   "source": [
    "spark.sql(f\"\"\"\n",
    "ALTER TABLE {catalog_name}.{schema_name}.invoices\n",
    "  ADD CONSTRAINT invoices_customers_fk\n",
    "    FOREIGN KEY(customer_id) REFERENCES {catalog_name}.{schema_name}.customers;\"\"\")"
   ]
  }
 ],
 "metadata": {
  "application/vnd.databricks.v1+notebook": {
   "computePreferences": null,
   "dashboards": [],
   "environmentMetadata": {
    "base_environment": "",
    "environment_version": "2"
   },
   "inputWidgetPreferences": null,
   "language": "python",
   "notebookMetadata": {
    "mostRecentlyExecutedCommandWithImplicitDF": {
     "commandId": 8672285376850297,
     "dataframes": [
      "_sqldf"
     ]
    },
    "pythonIndentUnit": 4
   },
   "notebookName": "01 - DATA ENGINEERING",
   "widgets": {
    "catalog_name": {
     "currentValue": "daniel_perez",
     "nuid": "185449b8-4e49-4121-9250-7db417b7bdd6",
     "typedWidgetInfo": {
      "autoCreated": false,
      "defaultValue": "",
      "label": "00 - Catalog Name",
      "name": "catalog_name",
      "options": {
       "widgetDisplayType": "Text",
       "validationRegex": null
      },
      "parameterDataType": "String"
     },
     "widgetInfo": {
      "widgetType": "text",
      "defaultValue": "",
      "label": "00 - Catalog Name",
      "name": "catalog_name",
      "options": {
       "widgetType": "text",
       "autoCreated": null,
       "validationRegex": null
      }
     }
    },
    "schema_name": {
     "currentValue": "ml_demo",
     "nuid": "1c08b0de-9586-49b0-8700-ee6bc026acae",
     "typedWidgetInfo": {
      "autoCreated": false,
      "defaultValue": "",
      "label": "01 - Schema Name",
      "name": "schema_name",
      "options": {
       "widgetDisplayType": "Text",
       "validationRegex": null
      },
      "parameterDataType": "String"
     },
     "widgetInfo": {
      "widgetType": "text",
      "defaultValue": "",
      "label": "01 - Schema Name",
      "name": "schema_name",
      "options": {
       "widgetType": "text",
       "autoCreated": null,
       "validationRegex": null
      }
     }
    }
   }
  },
  "language_info": {
   "name": "python"
  }
 },
 "nbformat": 4,
 "nbformat_minor": 0
}
