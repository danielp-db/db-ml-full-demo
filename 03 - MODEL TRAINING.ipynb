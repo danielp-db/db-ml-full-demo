{
 "cells": [
  {
   "cell_type": "markdown",
   "metadata": {
    "application/vnd.databricks.v1+cell": {
     "cellMetadata": {},
     "inputWidgets": {},
     "nuid": "72da1ec1-c217-4c61-8a91-e8f9902c11af",
     "showTitle": false,
     "tableResultSettingsMap": {},
     "title": ""
    }
   },
   "source": [
    "# Description"
   ]
  },
  {
   "cell_type": "markdown",
   "metadata": {
    "application/vnd.databricks.v1+cell": {
     "cellMetadata": {},
     "inputWidgets": {},
     "nuid": "36a78530-89d1-45b1-bc0a-d0d6b1a69862",
     "showTitle": false,
     "tableResultSettingsMap": {},
     "title": ""
    }
   },
   "source": [
    "After you identify a set of tables that may be used as the input for your model, the next step is to train your model.\n",
    "\n",
    "Databricks has a managed MLflow solution that helps manage the life cycle of your ML models.\n",
    "MLflow helps you with:\n",
    "- **Experiment tracking** Run experiments with any ML library, framework or language, and automatically keep track of parameters, metrics, code and models from each experiment.\n",
    "- **Model management** Use one central place to discover and share ML models, collaborate on moving them from experimentation to online testing and production.\n",
    "- **Model deployment** - Quickly deploy production models for batch inference on Apache Spark™ or as REST APIs using built-in integrations."
   ]
  },
  {
   "cell_type": "markdown",
   "metadata": {
    "application/vnd.databricks.v1+cell": {
     "cellMetadata": {},
     "inputWidgets": {},
     "nuid": "90a52388-b54c-4db4-937a-d70a5f1b54ab",
     "showTitle": false,
     "tableResultSettingsMap": {},
     "title": ""
    }
   },
   "source": [
    "# Boilerplate"
   ]
  },
  {
   "cell_type": "markdown",
   "metadata": {
    "application/vnd.databricks.v1+cell": {
     "cellMetadata": {},
     "inputWidgets": {},
     "nuid": "28b87b1c-34eb-4686-9407-e352e4e51060",
     "showTitle": false,
     "tableResultSettingsMap": {},
     "title": ""
    }
   },
   "source": [
    "## Dependencies"
   ]
  },
  {
   "cell_type": "code",
   "execution_count": 0,
   "metadata": {
    "application/vnd.databricks.v1+cell": {
     "cellMetadata": {},
     "inputWidgets": {},
     "nuid": "39d822c1-9ac6-47e2-8061-f075859912ed",
     "showTitle": false,
     "tableResultSettingsMap": {},
     "title": ""
    }
   },
   "outputs": [],
   "source": [
    "import mlflow\n",
    "from databricks.feature_engineering import FeatureEngineeringClient, FeatureLookup, FeatureFunction\n",
    "import random\n",
    "from sklearn.ensemble import RandomForestClassifier\n",
    "from sklearn.model_selection import GridSearchCV"
   ]
  },
  {
   "cell_type": "markdown",
   "metadata": {
    "application/vnd.databricks.v1+cell": {
     "cellMetadata": {},
     "inputWidgets": {},
     "nuid": "2146e523-931b-4769-92ac-dea70764fc89",
     "showTitle": false,
     "tableResultSettingsMap": {},
     "title": ""
    }
   },
   "source": [
    "## Parameters"
   ]
  },
  {
   "cell_type": "code",
   "execution_count": 0,
   "metadata": {
    "application/vnd.databricks.v1+cell": {
     "cellMetadata": {
      "byteLimit": 2048000,
      "rowLimit": 10000
     },
     "inputWidgets": {},
     "nuid": "f83a77ae-e9c3-483d-a065-52f18607da32",
     "showTitle": false,
     "tableResultSettingsMap": {},
     "title": ""
    }
   },
   "outputs": [],
   "source": [
    "dbutils.widgets.text(\"catalog_name\", \"\", \"00 - Catalog Name\")\n",
    "dbutils.widgets.text(\"schema_name\", \"\", \"01 - Schema Name\")"
   ]
  },
  {
   "cell_type": "code",
   "execution_count": 0,
   "metadata": {
    "application/vnd.databricks.v1+cell": {
     "cellMetadata": {
      "byteLimit": 2048000,
      "rowLimit": 10000
     },
     "inputWidgets": {},
     "nuid": "a135fad5-e542-436a-acdb-d3eceaac0b37",
     "showTitle": false,
     "tableResultSettingsMap": {},
     "title": ""
    }
   },
   "outputs": [],
   "source": [
    "params = dbutils.widgets.getAll()\n",
    "\n",
    "for key, value in params.items():\n",
    "  assert value != \"\", f\"Parameter {key} is empty\"\n",
    "\n",
    "locals().update(params)"
   ]
  },
  {
   "cell_type": "markdown",
   "metadata": {
    "application/vnd.databricks.v1+cell": {
     "cellMetadata": {},
     "inputWidgets": {},
     "nuid": "63c2e602-87c6-4f69-8b2d-5685c0acfbaf",
     "showTitle": false,
     "tableResultSettingsMap": {},
     "title": ""
    }
   },
   "source": [
    "# Main"
   ]
  },
  {
   "cell_type": "markdown",
   "metadata": {
    "application/vnd.databricks.v1+cell": {
     "cellMetadata": {},
     "inputWidgets": {},
     "nuid": "7f886bca-1fca-4e5f-866c-d6e5f2fb7b69",
     "showTitle": false,
     "tableResultSettingsMap": {},
     "title": ""
    }
   },
   "source": [
    "## Build Spine"
   ]
  },
  {
   "cell_type": "code",
   "execution_count": 0,
   "metadata": {
    "application/vnd.databricks.v1+cell": {
     "cellMetadata": {
      "byteLimit": 2048000,
      "implicitDf": true,
      "rowLimit": 10000
     },
     "inputWidgets": {},
     "nuid": "3e53b299-4f99-4d65-896a-afc54619fd53",
     "showTitle": false,
     "tableResultSettingsMap": {},
     "title": ""
    }
   },
   "outputs": [],
   "source": [
    "df_spine = spark.sql(f\"\"\"\n",
    "  WITH a1 AS (\n",
    "    SELECT \n",
    "      customer_id\n",
    "      , billing_month\n",
    "      , total_invoice\n",
    "      , LAG(total_invoice) OVER (PARTITION BY customer_id ORDER BY billing_month) lm_invoice\n",
    "    FROM {catalog_name}.{schema_name}.invoices\n",
    "  ), a2 AS (\n",
    "    SELECT\n",
    "      *\n",
    "      , (total_invoice - lm_invoice) / lm_invoice AS pct_diff\n",
    "    FROM a1\n",
    "  )\n",
    "\n",
    "  SELECT\n",
    "    customer_id\n",
    "    , billing_month\n",
    "    , CASE\n",
    "        WHEN pct_diff >= 0.1 THEN 'Increase' \n",
    "        WHEN pct_diff <= -0.1 THEN 'Decrease'\n",
    "        ELSE 'Same'\n",
    "        END invoice_change\n",
    "  FROM a2\n",
    "  WHERE 1=1\n",
    "    AND billing_month > (SELECT min(billing_month) FROM a2)    \n",
    "  \"\"\")\n",
    "\n",
    "df_training_spine = spark.sql(\n",
    "  \"\"\"\n",
    "  SELECT\n",
    "    *\n",
    "  FROM {df_spine}\n",
    "  WHERE billing_month < (SELECT max(billing_month) FROM {df_spine})\"\"\",\n",
    "  df_spine=df_spine)\n",
    "\n",
    "df_scoring_spine = spark.sql(\n",
    "  \"\"\"\n",
    "  SELECT\n",
    "    *\n",
    "  FROM {df_spine}\n",
    "  WHERE billing_month = (SELECT max(billing_month) FROM {df_spine})\"\"\",\n",
    "  df_spine=df_spine)\n",
    "\n",
    "df_training_spine.limit(10).display()\n",
    "df_scoring_spine.limit(10).display()"
   ]
  },
  {
   "cell_type": "markdown",
   "metadata": {
    "application/vnd.databricks.v1+cell": {
     "cellMetadata": {},
     "inputWidgets": {},
     "nuid": "cdf97998-4c75-4df5-9a05-f5bbe49c64cb",
     "showTitle": false,
     "tableResultSettingsMap": {},
     "title": ""
    }
   },
   "source": [
    "## Build Training Set"
   ]
  },
  {
   "cell_type": "code",
   "execution_count": 0,
   "metadata": {
    "application/vnd.databricks.v1+cell": {
     "cellMetadata": {
      "byteLimit": 2048000,
      "rowLimit": 10000
     },
     "inputWidgets": {},
     "nuid": "8dbfa70c-30a5-4ef4-92a6-11bdd01521b8",
     "showTitle": false,
     "tableResultSettingsMap": {},
     "title": ""
    }
   },
   "outputs": [],
   "source": [
    "fe = FeatureEngineeringClient()\n",
    "\n",
    "# Define the feature table\n",
    "feature_table = f\"{catalog_name}.{schema_name}.customer_features\"\n",
    "\n",
    "feature_lookups = [\n",
    "    # retrieve the prematerialized feature\n",
    "    FeatureLookup(\n",
    "        table_name = f\"{catalog_name}.{schema_name}.customer_weekly_features\",\n",
    "        lookup_key = \"customer_id\",\n",
    "        timestamp_lookup_key=\"billing_month\"\n",
    "    ),\n",
    "    FeatureLookup(\n",
    "        table_name = f\"{catalog_name}.{schema_name}.customer_demographics\",\n",
    "        lookup_key = \"customer_id\",\n",
    "    ),\n",
    "    FeatureFunction(\n",
    "        udf_name = f\"{catalog_name}.{schema_name}.day_difference\",    # UDF must be in Unity Catalog so uses a three-level namespace\n",
    "        input_bindings = {\n",
    "            \"from_date\": \"birth_date\",\n",
    "            \"to_date\": \"billing_month\"\n",
    "        },\n",
    "        output_name=\"days_old\",\n",
    "    ),\n",
    "    FeatureFunction(\n",
    "        udf_name = f\"{catalog_name}.{schema_name}.day_difference\",    # UDF must be in Unity Catalog so uses a three-level namespace\n",
    "        input_bindings = {\n",
    "            \"from_date\": \"customer_since\",\n",
    "            \"to_date\": \"billing_month\"\n",
    "        },\n",
    "        output_name=\"days_as_customer\",\n",
    "    ),\n",
    "]"
   ]
  },
  {
   "cell_type": "code",
   "execution_count": 0,
   "metadata": {
    "application/vnd.databricks.v1+cell": {
     "cellMetadata": {
      "byteLimit": 2048000,
      "rowLimit": 10000
     },
     "inputWidgets": {},
     "nuid": "0a4f1fe9-febd-4a18-a297-d99418b6c253",
     "showTitle": false,
     "tableResultSettingsMap": {},
     "title": ""
    }
   },
   "outputs": [],
   "source": [
    "training_set = fe.create_training_set(\n",
    "    df=df_spine,\n",
    "    feature_lookups=feature_lookups,\n",
    "    label=\"invoice_change\",\n",
    "    exclude_columns=[\"birth_date\", \"customer_since\", \"customer_id\", \"billing_month\", \"location\"]\n",
    ")\n",
    "\n",
    "training_df = training_set.load_df()\n",
    "training_pdf = training_df.toPandas()"
   ]
  },
  {
   "cell_type": "markdown",
   "metadata": {
    "application/vnd.databricks.v1+cell": {
     "cellMetadata": {},
     "inputWidgets": {},
     "nuid": "f986d5ed-789d-40f0-8834-4a509a3bc563",
     "showTitle": false,
     "tableResultSettingsMap": {},
     "title": ""
    }
   },
   "source": [
    "## Train Model"
   ]
  },
  {
   "cell_type": "markdown",
   "metadata": {
    "application/vnd.databricks.v1+cell": {
     "cellMetadata": {},
     "inputWidgets": {},
     "nuid": "726acc20-6764-4139-b1e2-1c0a17c225d3",
     "showTitle": false,
     "tableResultSettingsMap": {},
     "title": ""
    }
   },
   "source": [
    "### Single Model"
   ]
  },
  {
   "cell_type": "code",
   "execution_count": 0,
   "metadata": {
    "application/vnd.databricks.v1+cell": {
     "cellMetadata": {
      "byteLimit": 2048000,
      "rowLimit": 10000
     },
     "inputWidgets": {},
     "nuid": "72324ec6-19da-4c6f-8abe-63c0ef0b0dd5",
     "showTitle": false,
     "tableResultSettingsMap": {},
     "title": ""
    }
   },
   "outputs": [],
   "source": [
    "# Train a random forest classifier\n",
    "X = training_pdf.drop(\"invoice_change\", axis=1)\n",
    "y = training_pdf[\"invoice_change\"]\n",
    "\n",
    "model = RandomForestClassifier()\n",
    "model.fit(X, y)"
   ]
  },
  {
   "cell_type": "markdown",
   "metadata": {
    "application/vnd.databricks.v1+cell": {
     "cellMetadata": {},
     "inputWidgets": {},
     "nuid": "601eba68-3403-49ca-a25f-527ed18b0f57",
     "showTitle": false,
     "tableResultSettingsMap": {},
     "title": ""
    }
   },
   "source": [
    "### Gird Hyper Parameter Search"
   ]
  },
  {
   "cell_type": "code",
   "execution_count": 0,
   "metadata": {
    "application/vnd.databricks.v1+cell": {
     "cellMetadata": {
      "byteLimit": 2048000,
      "rowLimit": 10000
     },
     "inputWidgets": {},
     "nuid": "8948b4b0-3227-4f49-b626-25bf2895cdad",
     "showTitle": false,
     "tableResultSettingsMap": {},
     "title": ""
    }
   },
   "outputs": [],
   "source": [
    "# Define the parameter grid\n",
    "param_grid = {\n",
    "    'n_estimators': [50, 100, 200],\n",
    "    'max_depth': [None, 10, 20, 30],\n",
    "    'min_samples_split': [2, 5, 10],\n",
    "    'min_samples_leaf': [1, 2, 4]\n",
    "}\n",
    "\n",
    "# Initialize the RandomForestClassifier\n",
    "rf = RandomForestClassifier()\n",
    "\n",
    "# Initialize GridSearchCV\n",
    "grid_search = GridSearchCV(estimator=rf, param_grid=param_grid, cv=5, n_jobs=-1, verbose=2)\n",
    "\n",
    "# Fit the model\n",
    "grid_search.fit(X, y)\n",
    "\n",
    "# Get the best parameters\n",
    "best_params = grid_search.best_params_\n",
    "best_model = grid_search.best_estimator_"
   ]
  },
  {
   "cell_type": "code",
   "execution_count": 0,
   "metadata": {
    "application/vnd.databricks.v1+cell": {
     "cellMetadata": {},
     "inputWidgets": {},
     "nuid": "e91d1fcc-d8b7-4821-901c-6f2e105e7add",
     "showTitle": false,
     "tableResultSettingsMap": {},
     "title": ""
    }
   },
   "outputs": [],
   "source": [
    "#mlflow.start_run(run_name=\"RandomForest_GridSearch\")\n",
    "#mlflow.log_params(best_params)\n",
    "#mlflow.log_metric(\"accuracy\", grid_search.best_score_)\n",
    "#mlflow.sklearn.log_model(best_model, \"model\")\n",
    "#mlflow.end_run()"
   ]
  },
  {
   "cell_type": "markdown",
   "metadata": {
    "application/vnd.databricks.v1+cell": {
     "cellMetadata": {},
     "inputWidgets": {},
     "nuid": "228936c9-c7fa-4346-8baa-5637a7f35a68",
     "showTitle": false,
     "tableResultSettingsMap": {},
     "title": ""
    }
   },
   "source": [
    "## Log Model"
   ]
  },
  {
   "cell_type": "code",
   "execution_count": 0,
   "metadata": {
    "application/vnd.databricks.v1+cell": {
     "cellMetadata": {},
     "inputWidgets": {},
     "nuid": "204a5656-bff9-441b-b0b0-5817811faeb9",
     "showTitle": false,
     "tableResultSettingsMap": {},
     "title": ""
    }
   },
   "outputs": [],
   "source": [
    "fe.log_model(\n",
    "  model=best_model,\n",
    "  artifact_path=\"model\",\n",
    "  flavor=mlflow.sklearn,\n",
    "  training_set=training_set,\n",
    "  registered_model_name=\"invoice_increase_model\"\n",
    ")"
   ]
  }
 ],
 "metadata": {
  "application/vnd.databricks.v1+notebook": {
   "computePreferences": null,
   "dashboards": [],
   "environmentMetadata": {
    "base_environment": "",
    "environment_version": "2"
   },
   "inputWidgetPreferences": null,
   "language": "python",
   "notebookMetadata": {
    "mostRecentlyExecutedCommandWithImplicitDF": {
     "commandId": -1,
     "dataframes": [
      "_sqldf"
     ]
    },
    "pythonIndentUnit": 2
   },
   "notebookName": "03 - MODEL TRAINING",
   "widgets": {
    "catalog_name": {
     "currentValue": "daniel_perez",
     "nuid": "a5c2efaa-a720-41fc-94c7-e9cd7ddd0205",
     "typedWidgetInfo": {
      "autoCreated": false,
      "defaultValue": "",
      "label": "00 - Catalog Name",
      "name": "catalog_name",
      "options": {
       "widgetDisplayType": "Text",
       "validationRegex": null
      },
      "parameterDataType": "String"
     },
     "widgetInfo": {
      "widgetType": "text",
      "defaultValue": "",
      "label": "00 - Catalog Name",
      "name": "catalog_name",
      "options": {
       "widgetType": "text",
       "autoCreated": null,
       "validationRegex": null
      }
     }
    },
    "schema_name": {
     "currentValue": "att_ml",
     "nuid": "a137e809-f088-4cfd-89f1-bf74fe86b1ab",
     "typedWidgetInfo": {
      "autoCreated": false,
      "defaultValue": "",
      "label": "01 - Schema Name",
      "name": "schema_name",
      "options": {
       "widgetDisplayType": "Text",
       "validationRegex": null
      },
      "parameterDataType": "String"
     },
     "widgetInfo": {
      "widgetType": "text",
      "defaultValue": "",
      "label": "01 - Schema Name",
      "name": "schema_name",
      "options": {
       "widgetType": "text",
       "autoCreated": null,
       "validationRegex": null
      }
     }
    }
   }
  },
  "language_info": {
   "name": "python"
  }
 },
 "nbformat": 4,
 "nbformat_minor": 0
}
