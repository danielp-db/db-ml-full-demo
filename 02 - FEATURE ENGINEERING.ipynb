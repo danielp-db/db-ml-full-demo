{
 "cells": [
  {
   "cell_type": "markdown",
   "metadata": {
    "application/vnd.databricks.v1+cell": {
     "cellMetadata": {},
     "inputWidgets": {},
     "nuid": "72da1ec1-c217-4c61-8a91-e8f9902c11af",
     "showTitle": false,
     "tableResultSettingsMap": {},
     "title": ""
    }
   },
   "source": [
    "# Description"
   ]
  },
  {
   "cell_type": "markdown",
   "metadata": {
    "application/vnd.databricks.v1+cell": {
     "cellMetadata": {},
     "inputWidgets": {},
     "nuid": "36a78530-89d1-45b1-bc0a-d0d6b1a69862",
     "showTitle": false,
     "tableResultSettingsMap": {},
     "title": ""
    }
   },
   "source": [
    "When developing a Machine Learning model, arguably the most important component is the data. As the old tenet says \"_Garbage In, Garbage Out_\". The data we use to feed our model must be carefully crafter and checked against the most stringent quality sources.\n",
    "\n",
    "Databricks has a Feature Store that aims to:\n",
    "- **Aid with Feature discovery and democratization**, reducing double efforts that recreate already existing features.\n",
    "- **Have a Data Governance first take** where features are governed alongside models and functions in the catalog ensuring the right role has the right permissions.\n",
    "- **Track Lineage**, increasing the Data Scientist confidence that their models are built with the right data and logic and aiding ML and Data Engineers track impact of changes downstream.\n",
    "Cross-workspace access\n",
    "- **Eliminate skews in Model Training & Scoring**, ensuring the model produces consitent results by applying the same featurization logic in both stages.\n",
    "- **Eliminate skew in Offline / Online serving**, similar to the point above, no need to have a complex system that replicates logic across systems."
   ]
  },
  {
   "cell_type": "markdown",
   "metadata": {
    "application/vnd.databricks.v1+cell": {
     "cellMetadata": {},
     "inputWidgets": {},
     "nuid": "90a52388-b54c-4db4-937a-d70a5f1b54ab",
     "showTitle": false,
     "tableResultSettingsMap": {},
     "title": ""
    }
   },
   "source": [
    "# Boilerplate"
   ]
  },
  {
   "cell_type": "markdown",
   "metadata": {
    "application/vnd.databricks.v1+cell": {
     "cellMetadata": {},
     "inputWidgets": {},
     "nuid": "28b87b1c-34eb-4686-9407-e352e4e51060",
     "showTitle": false,
     "tableResultSettingsMap": {},
     "title": ""
    }
   },
   "source": [
    "## Dependencies"
   ]
  },
  {
   "cell_type": "markdown",
   "metadata": {
    "application/vnd.databricks.v1+cell": {
     "cellMetadata": {},
     "inputWidgets": {},
     "nuid": "2146e523-931b-4769-92ac-dea70764fc89",
     "showTitle": false,
     "tableResultSettingsMap": {},
     "title": ""
    }
   },
   "source": [
    "## Parameters"
   ]
  },
  {
   "cell_type": "code",
   "execution_count": 0,
   "metadata": {
    "application/vnd.databricks.v1+cell": {
     "cellMetadata": {
      "byteLimit": 2048000,
      "rowLimit": 10000
     },
     "inputWidgets": {},
     "nuid": "f83a77ae-e9c3-483d-a065-52f18607da32",
     "showTitle": false,
     "tableResultSettingsMap": {},
     "title": ""
    }
   },
   "outputs": [],
   "source": [
    "dbutils.widgets.text(\"catalog_name\", \"\", \"00 - Catalog Name\")\n",
    "dbutils.widgets.text(\"schema_name\", \"\", \"01 - Schema Name\")"
   ]
  },
  {
   "cell_type": "code",
   "execution_count": 0,
   "metadata": {
    "application/vnd.databricks.v1+cell": {
     "cellMetadata": {
      "byteLimit": 2048000,
      "rowLimit": 10000
     },
     "inputWidgets": {},
     "nuid": "a135fad5-e542-436a-acdb-d3eceaac0b37",
     "showTitle": false,
     "tableResultSettingsMap": {},
     "title": ""
    }
   },
   "outputs": [],
   "source": [
    "params = dbutils.widgets.getAll()\n",
    "\n",
    "for key, value in params.items():\n",
    "  assert value != \"\", f\"Parameter {key} is empty\"\n",
    "\n",
    "locals().update(params)"
   ]
  },
  {
   "cell_type": "markdown",
   "metadata": {
    "application/vnd.databricks.v1+cell": {
     "cellMetadata": {},
     "inputWidgets": {},
     "nuid": "63c2e602-87c6-4f69-8b2d-5685c0acfbaf",
     "showTitle": false,
     "tableResultSettingsMap": {},
     "title": ""
    }
   },
   "source": [
    "# Main"
   ]
  },
  {
   "cell_type": "markdown",
   "metadata": {
    "application/vnd.databricks.v1+cell": {
     "cellMetadata": {},
     "inputWidgets": {},
     "nuid": "5ff38751-cc56-4274-9a07-be082197ebf1",
     "showTitle": false,
     "tableResultSettingsMap": {},
     "title": ""
    }
   },
   "source": [
    "## Demographic Features"
   ]
  },
  {
   "cell_type": "code",
   "execution_count": 0,
   "metadata": {
    "application/vnd.databricks.v1+cell": {
     "cellMetadata": {
      "byteLimit": 2048000,
      "implicitDf": true,
      "rowLimit": 10000
     },
     "inputWidgets": {},
     "nuid": "acf524d7-61d5-4717-bf14-27ea7cd5eb16",
     "showTitle": false,
     "tableResultSettingsMap": {},
     "title": ""
    }
   },
   "outputs": [],
   "source": [
    "%sql\n",
    "CREATE OR REPLACE FUNCTION IDENTIFIER(:catalog_name || '.' || :schema_name || '.' || 'day_difference')(from_date DATE, to_date DATE)\n",
    "RETURNS INT\n",
    "LANGUAGE PYTHON\n",
    "COMMENT 'Computes the difference between two dates.'\n",
    "AS $$\n",
    "from datetime import datetime\n",
    "def day_difference(from_date: datetime, to_date: datetime) -> int:\n",
    "  return (to_date - from_date).days\n",
    "\n",
    "return day_difference(from_date, to_date)\n",
    "$$"
   ]
  },
  {
   "cell_type": "markdown",
   "metadata": {
    "application/vnd.databricks.v1+cell": {
     "cellMetadata": {},
     "inputWidgets": {},
     "nuid": "7c1a426b-6b58-45c9-90f7-5835c0e0924b",
     "showTitle": false,
     "tableResultSettingsMap": {},
     "title": ""
    }
   },
   "source": [
    "## Weekly Features"
   ]
  },
  {
   "cell_type": "code",
   "execution_count": 0,
   "metadata": {
    "application/vnd.databricks.v1+cell": {
     "cellMetadata": {
      "byteLimit": 2048000,
      "implicitDf": true,
      "rowLimit": 10000
     },
     "inputWidgets": {},
     "nuid": "55d5cf91-a650-49a1-921b-0fb9aa904149",
     "showTitle": false,
     "tableResultSettingsMap": {},
     "title": ""
    }
   },
   "outputs": [],
   "source": [
    "weekly_features = spark.sql(f\"\"\"\n",
    "WITH weekly_events AS (\n",
    "  SELECT\n",
    "    c.customer_id\n",
    "    , CAST(DATE_TRUNC('WEEK', event_ts) AS DATE) event_week\n",
    "    , SUM(CASE WHEN event_type = 'sms' THEN 1 ELSE 0 END) AS w_n_messages\n",
    "    , SUM(CASE WHEN event_type = 'local call' THEN 1 ELSE 0 END) AS w_n_local_calls\n",
    "    , SUM(CASE WHEN event_type = 'local call' THEN minutes ELSE 0 END) AS w_local_calls_minutes\n",
    "    , AVG(CASE WHEN event_type = 'local call' THEN minutes END) AS w_local_calls_avg_minutes\n",
    "    , SUM(CASE WHEN event_type = 'ld call' THEN 1 ELSE 0 END) AS w_n_ld_calls\n",
    "    , SUM(CASE WHEN event_type = 'ld call' THEN minutes ELSE 0 END) AS w_ld_calls_minutes\n",
    "    , AVG(CASE WHEN event_type = 'ld call' THEN minutes END) AS w_ld_calls_avg_minutes\n",
    "    , SUM(CASE WHEN event_type = 'intl call' THEN 1 ELSE 0 END) AS w_n_intl_calls\n",
    "    , SUM(CASE WHEN event_type = 'intl call' THEN minutes ELSE 0 END) AS w_intl_calls_minutes\n",
    "    , AVG(CASE WHEN event_type = 'intl call' THEN minutes END) AS w_intl_calls_avg_minutes\n",
    "    FROM {catalog_name}.{schema_name}.events\n",
    "    INNER JOIN {catalog_name}.{schema_name}.customers c\n",
    "      USING (device_id)\n",
    "    GROUP BY ALL\n",
    ")\n",
    "\n",
    "SELECT\n",
    "  *\n",
    "  , COALESCE(\n",
    "      LAG(w_n_messages) OVER (PARTITION BY customer_id ORDER BY event_week),\n",
    "      0) lw_n_messages\n",
    "  , COALESCE(\n",
    "      LAG(w_n_local_calls) OVER (PARTITION BY customer_id ORDER BY event_week),\n",
    "      0) lw_n_local_calls\n",
    "  , COALESCE(\n",
    "        LAG(w_local_calls_minutes) OVER (PARTITION BY customer_id ORDER BY event_week),\n",
    "        0) lw_local_calls_minutes\n",
    "  , COALESCE(\n",
    "        LAG(w_local_calls_avg_minutes) OVER (PARTITION BY customer_id ORDER BY event_week),\n",
    "        0) lw_local_calls_avg_minutes\n",
    "  , COALESCE(\n",
    "        LAG(w_n_ld_calls) OVER (PARTITION BY customer_id ORDER BY event_week),\n",
    "        0) lw_n_ld_calls\n",
    "  , COALESCE(\n",
    "        LAG(w_ld_calls_minutes) OVER (PARTITION BY customer_id ORDER BY event_week),\n",
    "        0) lw_ld_calls_minutes\n",
    "  , COALESCE(\n",
    "        LAG(w_ld_calls_avg_minutes) OVER (PARTITION BY customer_id ORDER BY event_week),\n",
    "        0) lw_ld_calls_avg_minutes\n",
    "  , COALESCE(\n",
    "        LAG(w_n_intl_calls) OVER (PARTITION BY customer_id ORDER BY event_week),\n",
    "        0) lw_n_intl_calls\n",
    "  , COALESCE(\n",
    "        LAG(w_intl_calls_minutes) OVER (PARTITION BY customer_id ORDER BY event_week),\n",
    "        0) lw_intl_calls_minutes\n",
    "  , COALESCE(\n",
    "        LAG(w_intl_calls_avg_minutes) OVER (PARTITION BY customer_id ORDER BY event_week),\n",
    "        0) lw_intl_calls_avg_minutes\n",
    "FROM weekly_events\n",
    "\"\"\")\n",
    "\n",
    "(\n",
    "    weekly_features\n",
    "    .write.mode(\"overwrite\")\n",
    "    .saveAsTable(f\"{catalog_name}.{schema_name}.customer_weekly_features\")\n",
    ")"
   ]
  },
  {
   "cell_type": "code",
   "execution_count": 0,
   "metadata": {
    "application/vnd.databricks.v1+cell": {
     "cellMetadata": {
      "byteLimit": 2048000,
      "implicitDf": true,
      "rowLimit": 10000
     },
     "inputWidgets": {},
     "nuid": "864bd21c-5e9b-4838-8f1a-995b904f5b63",
     "showTitle": false,
     "tableResultSettingsMap": {},
     "title": ""
    }
   },
   "outputs": [],
   "source": [
    "%sql\n",
    "SELECT\n",
    "  *\n",
    "FROM IDENTIFIER(:catalog_name || '.' || :schema_name || '.' || 'customer_weekly_features')\n",
    "LIMIT 10"
   ]
  },
  {
   "cell_type": "code",
   "execution_count": 0,
   "metadata": {
    "application/vnd.databricks.v1+cell": {
     "cellMetadata": {
      "byteLimit": 2048000,
      "implicitDf": true,
      "rowLimit": 10000
     },
     "inputWidgets": {},
     "nuid": "8feea1af-4586-4e0d-a1f1-c44cca68702b",
     "showTitle": false,
     "tableResultSettingsMap": {},
     "title": ""
    }
   },
   "outputs": [],
   "source": [
    "%sql\n",
    "ALTER TABLE IDENTIFIER(:catalog_name || '.' || :schema_name || '.' || 'customer_weekly_features')\n",
    "  ALTER COLUMN customer_id SET NOT NULL;\n",
    "\n",
    "ALTER TABLE IDENTIFIER(:catalog_name || '.' || :schema_name || '.' || 'customer_weekly_features')\n",
    "  ALTER COLUMN event_week SET NOT NULL;\n",
    "\n",
    "ALTER TABLE IDENTIFIER(:catalog_name || '.' || :schema_name || '.' || 'customer_weekly_features')\n",
    "  ADD CONSTRAINT customer_weekly_features_pk PRIMARY KEY (customer_id, event_week TIMESERIES);"
   ]
  },
  {
   "cell_type": "code",
   "execution_count": 0,
   "metadata": {
    "application/vnd.databricks.v1+cell": {
     "cellMetadata": {
      "byteLimit": 2048000,
      "rowLimit": 10000
     },
     "inputWidgets": {},
     "nuid": "23595241-4821-40d8-856e-4dc80821e11f",
     "showTitle": false,
     "tableResultSettingsMap": {},
     "title": ""
    }
   },
   "outputs": [],
   "source": [
    "spark.sql(f\"\"\"\n",
    "ALTER TABLE {catalog_name}.{schema_name}.customer_weekly_features\n",
    "  ADD CONSTRAINT customer_weekly_features_customers_fk\n",
    "    FOREIGN KEY(customer_id) REFERENCES {catalog_name}.{schema_name}.customers;\"\"\")"
   ]
  }
 ],
 "metadata": {
  "application/vnd.databricks.v1+notebook": {
   "computePreferences": null,
   "dashboards": [],
   "environmentMetadata": {
    "base_environment": "",
    "environment_version": "2"
   },
   "inputWidgetPreferences": null,
   "language": "python",
   "notebookMetadata": {
    "mostRecentlyExecutedCommandWithImplicitDF": {
     "commandId": 578676876701121,
     "dataframes": [
      "_sqldf"
     ]
    },
    "pythonIndentUnit": 2
   },
   "notebookName": "02 - FEATURE ENGINEERING",
   "widgets": {
    "catalog_name": {
     "currentValue": "daniel_perez",
     "nuid": "1395fca8-cd81-4056-babd-9858d41dd8ee",
     "typedWidgetInfo": {
      "autoCreated": false,
      "defaultValue": "",
      "label": "00 - Catalog Name",
      "name": "catalog_name",
      "options": {
       "widgetDisplayType": "Text",
       "validationRegex": null
      },
      "parameterDataType": "String"
     },
     "widgetInfo": {
      "widgetType": "text",
      "defaultValue": "",
      "label": "00 - Catalog Name",
      "name": "catalog_name",
      "options": {
       "widgetType": "text",
       "autoCreated": null,
       "validationRegex": null
      }
     }
    },
    "schema_name": {
     "currentValue": "att_ml",
     "nuid": "c3583044-8a8a-410b-9915-103874be53c2",
     "typedWidgetInfo": {
      "autoCreated": false,
      "defaultValue": "",
      "label": "01 - Schema Name",
      "name": "schema_name",
      "options": {
       "widgetDisplayType": "Text",
       "validationRegex": null
      },
      "parameterDataType": "String"
     },
     "widgetInfo": {
      "widgetType": "text",
      "defaultValue": "",
      "label": "01 - Schema Name",
      "name": "schema_name",
      "options": {
       "widgetType": "text",
       "autoCreated": null,
       "validationRegex": null
      }
     }
    }
   }
  },
  "language_info": {
   "name": "python"
  }
 },
 "nbformat": 4,
 "nbformat_minor": 0
}
